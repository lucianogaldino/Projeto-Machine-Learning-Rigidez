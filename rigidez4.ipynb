{
  "nbformat": 4,
  "nbformat_minor": 0,
  "metadata": {
    "kernelspec": {
      "display_name": "Python 3",
      "language": "python",
      "name": "python3"
    },
    "language_info": {
      "codemirror_mode": {
        "name": "ipython",
        "version": 3
      },
      "file_extension": ".py",
      "mimetype": "text/x-python",
      "name": "python",
      "nbconvert_exporter": "python",
      "pygments_lexer": "ipython3",
      "version": "3.8.3"
    },
    "colab": {
      "name": "rigidez4.ipynb",
      "provenance": [],
      "collapsed_sections": [
        "DIt-gpe7DdCN"
      ],
      "toc_visible": true,
      "include_colab_link": true
    }
  },
  "cells": [
    {
      "cell_type": "markdown",
      "metadata": {
        "id": "view-in-github",
        "colab_type": "text"
      },
      "source": [
        "<a href=\"https://colab.research.google.com/github/lucianogaldino/Projeto-Machine-Learning-Rigidez/blob/master/rigidez4.ipynb\" target=\"_parent\"><img src=\"https://colab.research.google.com/assets/colab-badge.svg\" alt=\"Open In Colab\"/></a>"
      ]
    },
    {
      "cell_type": "markdown",
      "metadata": {
        "id": "wkvljVbIQTG4",
        "colab_type": "text"
      },
      "source": [
        "# **Análise da rigidez de uma mola helicoidal**"
      ]
    },
    {
      "cell_type": "code",
      "metadata": {
        "id": "o_zqKZc_Qy-y",
        "colab_type": "code",
        "colab": {}
      },
      "source": [
        "from google.colab import drive\n",
        "drive.mount('/content/drive')"
      ],
      "execution_count": null,
      "outputs": []
    },
    {
      "cell_type": "code",
      "metadata": {
        "id": "SgxQIqcWPr4F",
        "colab_type": "code",
        "colab": {}
      },
      "source": [
        "import numpy as np\n",
        "import matplotlib.pyplot as plt\n",
        "import pandas as pd\n",
        "%matplotlib inline"
      ],
      "execution_count": null,
      "outputs": []
    },
    {
      "cell_type": "code",
      "metadata": {
        "id": "l8HUH2iyTJVx",
        "colab_type": "code",
        "colab": {}
      },
      "source": [
        "import seaborn as sns"
      ],
      "execution_count": null,
      "outputs": []
    },
    {
      "cell_type": "markdown",
      "metadata": {
        "id": "IUenQtoBPr4L",
        "colab_type": "text"
      },
      "source": [
        "## Análise dos Dados"
      ]
    },
    {
      "cell_type": "code",
      "metadata": {
        "id": "rHIyHkNmPr4M",
        "colab_type": "code",
        "colab": {}
      },
      "source": [
        "rigidez = pd.read_csv('mola.csv')"
      ],
      "execution_count": null,
      "outputs": []
    },
    {
      "cell_type": "code",
      "metadata": {
        "id": "ZXFDI3NQPr4U",
        "colab_type": "code",
        "colab": {
          "base_uri": "https://localhost:8080/",
          "height": 34
        },
        "outputId": "ca1d5742-0083-46b2-a887-c29a2dd48289"
      },
      "source": [
        "type(rigidez)"
      ],
      "execution_count": null,
      "outputs": [
        {
          "output_type": "execute_result",
          "data": {
            "text/plain": [
              "pandas.core.frame.DataFrame"
            ]
          },
          "metadata": {
            "tags": []
          },
          "execution_count": 5
        }
      ]
    },
    {
      "cell_type": "code",
      "metadata": {
        "id": "XVECoUndPr4b",
        "colab_type": "code",
        "colab": {
          "base_uri": "https://localhost:8080/",
          "height": 34
        },
        "outputId": "08870095-00a6-4b8d-9108-2acde5a18da6"
      },
      "source": [
        "rigidez.shape"
      ],
      "execution_count": null,
      "outputs": [
        {
          "output_type": "execute_result",
          "data": {
            "text/plain": [
              "(26, 6)"
            ]
          },
          "metadata": {
            "tags": []
          },
          "execution_count": 6
        }
      ]
    },
    {
      "cell_type": "code",
      "metadata": {
        "id": "GpmaLXJkPr4Q",
        "colab_type": "code",
        "colab": {
          "base_uri": "https://localhost:8080/",
          "height": 855
        },
        "outputId": "659312fe-c070-491a-a39e-9ec67ed09f51"
      },
      "source": [
        "rigidez.head(26)"
      ],
      "execution_count": null,
      "outputs": [
        {
          "output_type": "execute_result",
          "data": {
            "text/html": [
              "<div>\n",
              "<style scoped>\n",
              "    .dataframe tbody tr th:only-of-type {\n",
              "        vertical-align: middle;\n",
              "    }\n",
              "\n",
              "    .dataframe tbody tr th {\n",
              "        vertical-align: top;\n",
              "    }\n",
              "\n",
              "    .dataframe thead th {\n",
              "        text-align: right;\n",
              "    }\n",
              "</style>\n",
              "<table border=\"1\" class=\"dataframe\">\n",
              "  <thead>\n",
              "    <tr style=\"text-align: right;\">\n",
              "      <th></th>\n",
              "      <th>cargas</th>\n",
              "      <th>forca</th>\n",
              "      <th>Lo</th>\n",
              "      <th>L</th>\n",
              "      <th>x</th>\n",
              "      <th>K</th>\n",
              "    </tr>\n",
              "  </thead>\n",
              "  <tbody>\n",
              "    <tr>\n",
              "      <th>0</th>\n",
              "      <td>1</td>\n",
              "      <td>0.10</td>\n",
              "      <td>27</td>\n",
              "      <td>29.90</td>\n",
              "      <td>0.00290</td>\n",
              "      <td>34.48</td>\n",
              "    </tr>\n",
              "    <tr>\n",
              "      <th>1</th>\n",
              "      <td>2</td>\n",
              "      <td>0.15</td>\n",
              "      <td>27</td>\n",
              "      <td>31.30</td>\n",
              "      <td>0.00430</td>\n",
              "      <td>34.88</td>\n",
              "    </tr>\n",
              "    <tr>\n",
              "      <th>2</th>\n",
              "      <td>3</td>\n",
              "      <td>0.23</td>\n",
              "      <td>27</td>\n",
              "      <td>34.00</td>\n",
              "      <td>0.00700</td>\n",
              "      <td>32.86</td>\n",
              "    </tr>\n",
              "    <tr>\n",
              "      <th>3</th>\n",
              "      <td>4</td>\n",
              "      <td>0.45</td>\n",
              "      <td>27</td>\n",
              "      <td>41.40</td>\n",
              "      <td>0.01440</td>\n",
              "      <td>31.25</td>\n",
              "    </tr>\n",
              "    <tr>\n",
              "      <th>4</th>\n",
              "      <td>5</td>\n",
              "      <td>0.55</td>\n",
              "      <td>27</td>\n",
              "      <td>44.20</td>\n",
              "      <td>0.01720</td>\n",
              "      <td>31.98</td>\n",
              "    </tr>\n",
              "    <tr>\n",
              "      <th>5</th>\n",
              "      <td>6</td>\n",
              "      <td>0.68</td>\n",
              "      <td>27</td>\n",
              "      <td>47.20</td>\n",
              "      <td>0.02020</td>\n",
              "      <td>33.66</td>\n",
              "    </tr>\n",
              "    <tr>\n",
              "      <th>6</th>\n",
              "      <td>7</td>\n",
              "      <td>0.72</td>\n",
              "      <td>27</td>\n",
              "      <td>50.00</td>\n",
              "      <td>0.02300</td>\n",
              "      <td>31.30</td>\n",
              "    </tr>\n",
              "    <tr>\n",
              "      <th>7</th>\n",
              "      <td>8</td>\n",
              "      <td>0.83</td>\n",
              "      <td>27</td>\n",
              "      <td>51.90</td>\n",
              "      <td>0.02490</td>\n",
              "      <td>33.33</td>\n",
              "    </tr>\n",
              "    <tr>\n",
              "      <th>8</th>\n",
              "      <td>9</td>\n",
              "      <td>1.05</td>\n",
              "      <td>27</td>\n",
              "      <td>58.00</td>\n",
              "      <td>0.03100</td>\n",
              "      <td>33.87</td>\n",
              "    </tr>\n",
              "    <tr>\n",
              "      <th>9</th>\n",
              "      <td>10</td>\n",
              "      <td>1.15</td>\n",
              "      <td>27</td>\n",
              "      <td>61.20</td>\n",
              "      <td>0.03420</td>\n",
              "      <td>33.63</td>\n",
              "    </tr>\n",
              "    <tr>\n",
              "      <th>10</th>\n",
              "      <td>11</td>\n",
              "      <td>1.21</td>\n",
              "      <td>27</td>\n",
              "      <td>66.00</td>\n",
              "      <td>0.03900</td>\n",
              "      <td>31.03</td>\n",
              "    </tr>\n",
              "    <tr>\n",
              "      <th>11</th>\n",
              "      <td>12</td>\n",
              "      <td>1.23</td>\n",
              "      <td>27</td>\n",
              "      <td>66.30</td>\n",
              "      <td>0.03930</td>\n",
              "      <td>31.30</td>\n",
              "    </tr>\n",
              "    <tr>\n",
              "      <th>12</th>\n",
              "      <td>13</td>\n",
              "      <td>1.35</td>\n",
              "      <td>27</td>\n",
              "      <td>69.30</td>\n",
              "      <td>0.04230</td>\n",
              "      <td>31.91</td>\n",
              "    </tr>\n",
              "    <tr>\n",
              "      <th>13</th>\n",
              "      <td>14</td>\n",
              "      <td>1.55</td>\n",
              "      <td>27</td>\n",
              "      <td>76.40</td>\n",
              "      <td>0.04940</td>\n",
              "      <td>31.38</td>\n",
              "    </tr>\n",
              "    <tr>\n",
              "      <th>14</th>\n",
              "      <td>15</td>\n",
              "      <td>1.71</td>\n",
              "      <td>27</td>\n",
              "      <td>82.50</td>\n",
              "      <td>0.05550</td>\n",
              "      <td>30.81</td>\n",
              "    </tr>\n",
              "    <tr>\n",
              "      <th>15</th>\n",
              "      <td>16</td>\n",
              "      <td>1.75</td>\n",
              "      <td>27</td>\n",
              "      <td>83.80</td>\n",
              "      <td>0.05680</td>\n",
              "      <td>30.81</td>\n",
              "    </tr>\n",
              "    <tr>\n",
              "      <th>16</th>\n",
              "      <td>17</td>\n",
              "      <td>1.92</td>\n",
              "      <td>27</td>\n",
              "      <td>91.70</td>\n",
              "      <td>0.06470</td>\n",
              "      <td>29.68</td>\n",
              "    </tr>\n",
              "    <tr>\n",
              "      <th>17</th>\n",
              "      <td>18</td>\n",
              "      <td>2.04</td>\n",
              "      <td>27</td>\n",
              "      <td>94.60</td>\n",
              "      <td>0.06760</td>\n",
              "      <td>30.18</td>\n",
              "    </tr>\n",
              "    <tr>\n",
              "      <th>18</th>\n",
              "      <td>19</td>\n",
              "      <td>2.15</td>\n",
              "      <td>27</td>\n",
              "      <td>97.40</td>\n",
              "      <td>0.07040</td>\n",
              "      <td>30.54</td>\n",
              "    </tr>\n",
              "    <tr>\n",
              "      <th>19</th>\n",
              "      <td>20</td>\n",
              "      <td>2.19</td>\n",
              "      <td>27</td>\n",
              "      <td>98.50</td>\n",
              "      <td>0.07150</td>\n",
              "      <td>30.63</td>\n",
              "    </tr>\n",
              "    <tr>\n",
              "      <th>20</th>\n",
              "      <td>21</td>\n",
              "      <td>2.25</td>\n",
              "      <td>27</td>\n",
              "      <td>99.74</td>\n",
              "      <td>0.07274</td>\n",
              "      <td>30.93</td>\n",
              "    </tr>\n",
              "    <tr>\n",
              "      <th>21</th>\n",
              "      <td>22</td>\n",
              "      <td>2.40</td>\n",
              "      <td>27</td>\n",
              "      <td>105.50</td>\n",
              "      <td>0.07850</td>\n",
              "      <td>30.57</td>\n",
              "    </tr>\n",
              "    <tr>\n",
              "      <th>22</th>\n",
              "      <td>23</td>\n",
              "      <td>2.55</td>\n",
              "      <td>27</td>\n",
              "      <td>108.20</td>\n",
              "      <td>0.08120</td>\n",
              "      <td>31.40</td>\n",
              "    </tr>\n",
              "    <tr>\n",
              "      <th>23</th>\n",
              "      <td>24</td>\n",
              "      <td>2.72</td>\n",
              "      <td>27</td>\n",
              "      <td>112.30</td>\n",
              "      <td>0.08530</td>\n",
              "      <td>31.89</td>\n",
              "    </tr>\n",
              "    <tr>\n",
              "      <th>24</th>\n",
              "      <td>25</td>\n",
              "      <td>2.85</td>\n",
              "      <td>27</td>\n",
              "      <td>119.50</td>\n",
              "      <td>0.09250</td>\n",
              "      <td>30.81</td>\n",
              "    </tr>\n",
              "    <tr>\n",
              "      <th>25</th>\n",
              "      <td>26</td>\n",
              "      <td>3.00</td>\n",
              "      <td>27</td>\n",
              "      <td>124.50</td>\n",
              "      <td>0.09750</td>\n",
              "      <td>30.77</td>\n",
              "    </tr>\n",
              "  </tbody>\n",
              "</table>\n",
              "</div>"
            ],
            "text/plain": [
              "    cargas  forca  Lo       L        x      K\n",
              "0        1   0.10  27   29.90  0.00290  34.48\n",
              "1        2   0.15  27   31.30  0.00430  34.88\n",
              "2        3   0.23  27   34.00  0.00700  32.86\n",
              "3        4   0.45  27   41.40  0.01440  31.25\n",
              "4        5   0.55  27   44.20  0.01720  31.98\n",
              "5        6   0.68  27   47.20  0.02020  33.66\n",
              "6        7   0.72  27   50.00  0.02300  31.30\n",
              "7        8   0.83  27   51.90  0.02490  33.33\n",
              "8        9   1.05  27   58.00  0.03100  33.87\n",
              "9       10   1.15  27   61.20  0.03420  33.63\n",
              "10      11   1.21  27   66.00  0.03900  31.03\n",
              "11      12   1.23  27   66.30  0.03930  31.30\n",
              "12      13   1.35  27   69.30  0.04230  31.91\n",
              "13      14   1.55  27   76.40  0.04940  31.38\n",
              "14      15   1.71  27   82.50  0.05550  30.81\n",
              "15      16   1.75  27   83.80  0.05680  30.81\n",
              "16      17   1.92  27   91.70  0.06470  29.68\n",
              "17      18   2.04  27   94.60  0.06760  30.18\n",
              "18      19   2.15  27   97.40  0.07040  30.54\n",
              "19      20   2.19  27   98.50  0.07150  30.63\n",
              "20      21   2.25  27   99.74  0.07274  30.93\n",
              "21      22   2.40  27  105.50  0.07850  30.57\n",
              "22      23   2.55  27  108.20  0.08120  31.40\n",
              "23      24   2.72  27  112.30  0.08530  31.89\n",
              "24      25   2.85  27  119.50  0.09250  30.81\n",
              "25      26   3.00  27  124.50  0.09750  30.77"
            ]
          },
          "metadata": {
            "tags": []
          },
          "execution_count": 7
        }
      ]
    },
    {
      "cell_type": "markdown",
      "metadata": {
        "id": "IRSrMrSm8inL",
        "colab_type": "text"
      },
      "source": [
        "## Organização dos Dados "
      ]
    },
    {
      "cell_type": "code",
      "metadata": {
        "id": "zYbHVFR8chYp",
        "colab_type": "code",
        "colab": {}
      },
      "source": [
        "rigidez2=rigidez.drop('cargas', axis=1)"
      ],
      "execution_count": null,
      "outputs": []
    },
    {
      "cell_type": "code",
      "metadata": {
        "id": "ayiFZRtefnZr",
        "colab_type": "code",
        "colab": {}
      },
      "source": [
        "rigidez2=rigidez2.drop('Lo',axis=1)"
      ],
      "execution_count": null,
      "outputs": []
    },
    {
      "cell_type": "code",
      "metadata": {
        "id": "2NPL5vYGc6Bg",
        "colab_type": "code",
        "colab": {
          "base_uri": "https://localhost:8080/",
          "height": 855
        },
        "outputId": "62df0629-7c65-4acd-9c8b-3383fde5946b"
      },
      "source": [
        "rigidez2.head(26)"
      ],
      "execution_count": null,
      "outputs": [
        {
          "output_type": "execute_result",
          "data": {
            "text/html": [
              "<div>\n",
              "<style scoped>\n",
              "    .dataframe tbody tr th:only-of-type {\n",
              "        vertical-align: middle;\n",
              "    }\n",
              "\n",
              "    .dataframe tbody tr th {\n",
              "        vertical-align: top;\n",
              "    }\n",
              "\n",
              "    .dataframe thead th {\n",
              "        text-align: right;\n",
              "    }\n",
              "</style>\n",
              "<table border=\"1\" class=\"dataframe\">\n",
              "  <thead>\n",
              "    <tr style=\"text-align: right;\">\n",
              "      <th></th>\n",
              "      <th>forca</th>\n",
              "      <th>L</th>\n",
              "      <th>x</th>\n",
              "      <th>K</th>\n",
              "    </tr>\n",
              "  </thead>\n",
              "  <tbody>\n",
              "    <tr>\n",
              "      <th>0</th>\n",
              "      <td>0.10</td>\n",
              "      <td>29.90</td>\n",
              "      <td>0.00290</td>\n",
              "      <td>34.48</td>\n",
              "    </tr>\n",
              "    <tr>\n",
              "      <th>1</th>\n",
              "      <td>0.15</td>\n",
              "      <td>31.30</td>\n",
              "      <td>0.00430</td>\n",
              "      <td>34.88</td>\n",
              "    </tr>\n",
              "    <tr>\n",
              "      <th>2</th>\n",
              "      <td>0.23</td>\n",
              "      <td>34.00</td>\n",
              "      <td>0.00700</td>\n",
              "      <td>32.86</td>\n",
              "    </tr>\n",
              "    <tr>\n",
              "      <th>3</th>\n",
              "      <td>0.45</td>\n",
              "      <td>41.40</td>\n",
              "      <td>0.01440</td>\n",
              "      <td>31.25</td>\n",
              "    </tr>\n",
              "    <tr>\n",
              "      <th>4</th>\n",
              "      <td>0.55</td>\n",
              "      <td>44.20</td>\n",
              "      <td>0.01720</td>\n",
              "      <td>31.98</td>\n",
              "    </tr>\n",
              "    <tr>\n",
              "      <th>5</th>\n",
              "      <td>0.68</td>\n",
              "      <td>47.20</td>\n",
              "      <td>0.02020</td>\n",
              "      <td>33.66</td>\n",
              "    </tr>\n",
              "    <tr>\n",
              "      <th>6</th>\n",
              "      <td>0.72</td>\n",
              "      <td>50.00</td>\n",
              "      <td>0.02300</td>\n",
              "      <td>31.30</td>\n",
              "    </tr>\n",
              "    <tr>\n",
              "      <th>7</th>\n",
              "      <td>0.83</td>\n",
              "      <td>51.90</td>\n",
              "      <td>0.02490</td>\n",
              "      <td>33.33</td>\n",
              "    </tr>\n",
              "    <tr>\n",
              "      <th>8</th>\n",
              "      <td>1.05</td>\n",
              "      <td>58.00</td>\n",
              "      <td>0.03100</td>\n",
              "      <td>33.87</td>\n",
              "    </tr>\n",
              "    <tr>\n",
              "      <th>9</th>\n",
              "      <td>1.15</td>\n",
              "      <td>61.20</td>\n",
              "      <td>0.03420</td>\n",
              "      <td>33.63</td>\n",
              "    </tr>\n",
              "    <tr>\n",
              "      <th>10</th>\n",
              "      <td>1.21</td>\n",
              "      <td>66.00</td>\n",
              "      <td>0.03900</td>\n",
              "      <td>31.03</td>\n",
              "    </tr>\n",
              "    <tr>\n",
              "      <th>11</th>\n",
              "      <td>1.23</td>\n",
              "      <td>66.30</td>\n",
              "      <td>0.03930</td>\n",
              "      <td>31.30</td>\n",
              "    </tr>\n",
              "    <tr>\n",
              "      <th>12</th>\n",
              "      <td>1.35</td>\n",
              "      <td>69.30</td>\n",
              "      <td>0.04230</td>\n",
              "      <td>31.91</td>\n",
              "    </tr>\n",
              "    <tr>\n",
              "      <th>13</th>\n",
              "      <td>1.55</td>\n",
              "      <td>76.40</td>\n",
              "      <td>0.04940</td>\n",
              "      <td>31.38</td>\n",
              "    </tr>\n",
              "    <tr>\n",
              "      <th>14</th>\n",
              "      <td>1.71</td>\n",
              "      <td>82.50</td>\n",
              "      <td>0.05550</td>\n",
              "      <td>30.81</td>\n",
              "    </tr>\n",
              "    <tr>\n",
              "      <th>15</th>\n",
              "      <td>1.75</td>\n",
              "      <td>83.80</td>\n",
              "      <td>0.05680</td>\n",
              "      <td>30.81</td>\n",
              "    </tr>\n",
              "    <tr>\n",
              "      <th>16</th>\n",
              "      <td>1.92</td>\n",
              "      <td>91.70</td>\n",
              "      <td>0.06470</td>\n",
              "      <td>29.68</td>\n",
              "    </tr>\n",
              "    <tr>\n",
              "      <th>17</th>\n",
              "      <td>2.04</td>\n",
              "      <td>94.60</td>\n",
              "      <td>0.06760</td>\n",
              "      <td>30.18</td>\n",
              "    </tr>\n",
              "    <tr>\n",
              "      <th>18</th>\n",
              "      <td>2.15</td>\n",
              "      <td>97.40</td>\n",
              "      <td>0.07040</td>\n",
              "      <td>30.54</td>\n",
              "    </tr>\n",
              "    <tr>\n",
              "      <th>19</th>\n",
              "      <td>2.19</td>\n",
              "      <td>98.50</td>\n",
              "      <td>0.07150</td>\n",
              "      <td>30.63</td>\n",
              "    </tr>\n",
              "    <tr>\n",
              "      <th>20</th>\n",
              "      <td>2.25</td>\n",
              "      <td>99.74</td>\n",
              "      <td>0.07274</td>\n",
              "      <td>30.93</td>\n",
              "    </tr>\n",
              "    <tr>\n",
              "      <th>21</th>\n",
              "      <td>2.40</td>\n",
              "      <td>105.50</td>\n",
              "      <td>0.07850</td>\n",
              "      <td>30.57</td>\n",
              "    </tr>\n",
              "    <tr>\n",
              "      <th>22</th>\n",
              "      <td>2.55</td>\n",
              "      <td>108.20</td>\n",
              "      <td>0.08120</td>\n",
              "      <td>31.40</td>\n",
              "    </tr>\n",
              "    <tr>\n",
              "      <th>23</th>\n",
              "      <td>2.72</td>\n",
              "      <td>112.30</td>\n",
              "      <td>0.08530</td>\n",
              "      <td>31.89</td>\n",
              "    </tr>\n",
              "    <tr>\n",
              "      <th>24</th>\n",
              "      <td>2.85</td>\n",
              "      <td>119.50</td>\n",
              "      <td>0.09250</td>\n",
              "      <td>30.81</td>\n",
              "    </tr>\n",
              "    <tr>\n",
              "      <th>25</th>\n",
              "      <td>3.00</td>\n",
              "      <td>124.50</td>\n",
              "      <td>0.09750</td>\n",
              "      <td>30.77</td>\n",
              "    </tr>\n",
              "  </tbody>\n",
              "</table>\n",
              "</div>"
            ],
            "text/plain": [
              "    forca       L        x      K\n",
              "0    0.10   29.90  0.00290  34.48\n",
              "1    0.15   31.30  0.00430  34.88\n",
              "2    0.23   34.00  0.00700  32.86\n",
              "3    0.45   41.40  0.01440  31.25\n",
              "4    0.55   44.20  0.01720  31.98\n",
              "5    0.68   47.20  0.02020  33.66\n",
              "6    0.72   50.00  0.02300  31.30\n",
              "7    0.83   51.90  0.02490  33.33\n",
              "8    1.05   58.00  0.03100  33.87\n",
              "9    1.15   61.20  0.03420  33.63\n",
              "10   1.21   66.00  0.03900  31.03\n",
              "11   1.23   66.30  0.03930  31.30\n",
              "12   1.35   69.30  0.04230  31.91\n",
              "13   1.55   76.40  0.04940  31.38\n",
              "14   1.71   82.50  0.05550  30.81\n",
              "15   1.75   83.80  0.05680  30.81\n",
              "16   1.92   91.70  0.06470  29.68\n",
              "17   2.04   94.60  0.06760  30.18\n",
              "18   2.15   97.40  0.07040  30.54\n",
              "19   2.19   98.50  0.07150  30.63\n",
              "20   2.25   99.74  0.07274  30.93\n",
              "21   2.40  105.50  0.07850  30.57\n",
              "22   2.55  108.20  0.08120  31.40\n",
              "23   2.72  112.30  0.08530  31.89\n",
              "24   2.85  119.50  0.09250  30.81\n",
              "25   3.00  124.50  0.09750  30.77"
            ]
          },
          "metadata": {
            "tags": []
          },
          "execution_count": 10
        }
      ]
    },
    {
      "cell_type": "code",
      "metadata": {
        "id": "BBLJ7-UfPr4f",
        "colab_type": "code",
        "colab": {
          "base_uri": "https://localhost:8080/",
          "height": 102
        },
        "outputId": "c6f5322a-e9b0-43b1-b39c-f7b374049cb2"
      },
      "source": [
        "rigidez2.dtypes\n"
      ],
      "execution_count": null,
      "outputs": [
        {
          "output_type": "execute_result",
          "data": {
            "text/plain": [
              "forca    float64\n",
              "L        float64\n",
              "x        float64\n",
              "K        float64\n",
              "dtype: object"
            ]
          },
          "metadata": {
            "tags": []
          },
          "execution_count": 11
        }
      ]
    },
    {
      "cell_type": "markdown",
      "metadata": {
        "id": "-xvhkGYq9QY2",
        "colab_type": "text"
      },
      "source": [
        "## Análises estatísticas"
      ]
    },
    {
      "cell_type": "code",
      "metadata": {
        "id": "gvc_i0Fy_QoK",
        "colab_type": "code",
        "colab": {}
      },
      "source": [
        "from scipy import stats"
      ],
      "execution_count": null,
      "outputs": []
    },
    {
      "cell_type": "code",
      "metadata": {
        "id": "-4K0YbmSPr4X",
        "colab_type": "code",
        "colab": {
          "base_uri": "https://localhost:8080/",
          "height": 297
        },
        "outputId": "bfcf0844-a022-43fe-9aaa-69fe3474d117"
      },
      "source": [
        "rigidez2.describe()"
      ],
      "execution_count": null,
      "outputs": [
        {
          "output_type": "execute_result",
          "data": {
            "text/html": [
              "<div>\n",
              "<style scoped>\n",
              "    .dataframe tbody tr th:only-of-type {\n",
              "        vertical-align: middle;\n",
              "    }\n",
              "\n",
              "    .dataframe tbody tr th {\n",
              "        vertical-align: top;\n",
              "    }\n",
              "\n",
              "    .dataframe thead th {\n",
              "        text-align: right;\n",
              "    }\n",
              "</style>\n",
              "<table border=\"1\" class=\"dataframe\">\n",
              "  <thead>\n",
              "    <tr style=\"text-align: right;\">\n",
              "      <th></th>\n",
              "      <th>forca</th>\n",
              "      <th>L</th>\n",
              "      <th>x</th>\n",
              "      <th>K</th>\n",
              "    </tr>\n",
              "  </thead>\n",
              "  <tbody>\n",
              "    <tr>\n",
              "      <th>count</th>\n",
              "      <td>26.000000</td>\n",
              "      <td>26.000000</td>\n",
              "      <td>26.000000</td>\n",
              "      <td>26.000000</td>\n",
              "    </tr>\n",
              "    <tr>\n",
              "      <th>mean</th>\n",
              "      <td>1.491538</td>\n",
              "      <td>74.820769</td>\n",
              "      <td>0.047821</td>\n",
              "      <td>31.764615</td>\n",
              "    </tr>\n",
              "    <tr>\n",
              "      <th>std</th>\n",
              "      <td>0.875085</td>\n",
              "      <td>28.719744</td>\n",
              "      <td>0.028720</td>\n",
              "      <td>1.404633</td>\n",
              "    </tr>\n",
              "    <tr>\n",
              "      <th>min</th>\n",
              "      <td>0.100000</td>\n",
              "      <td>29.900000</td>\n",
              "      <td>0.002900</td>\n",
              "      <td>29.680000</td>\n",
              "    </tr>\n",
              "    <tr>\n",
              "      <th>25%</th>\n",
              "      <td>0.747500</td>\n",
              "      <td>50.475000</td>\n",
              "      <td>0.023475</td>\n",
              "      <td>30.810000</td>\n",
              "    </tr>\n",
              "    <tr>\n",
              "      <th>50%</th>\n",
              "      <td>1.450000</td>\n",
              "      <td>72.850000</td>\n",
              "      <td>0.045850</td>\n",
              "      <td>31.300000</td>\n",
              "    </tr>\n",
              "    <tr>\n",
              "      <th>75%</th>\n",
              "      <td>2.180000</td>\n",
              "      <td>98.225000</td>\n",
              "      <td>0.071225</td>\n",
              "      <td>32.640000</td>\n",
              "    </tr>\n",
              "    <tr>\n",
              "      <th>max</th>\n",
              "      <td>3.000000</td>\n",
              "      <td>124.500000</td>\n",
              "      <td>0.097500</td>\n",
              "      <td>34.880000</td>\n",
              "    </tr>\n",
              "  </tbody>\n",
              "</table>\n",
              "</div>"
            ],
            "text/plain": [
              "           forca           L          x          K\n",
              "count  26.000000   26.000000  26.000000  26.000000\n",
              "mean    1.491538   74.820769   0.047821  31.764615\n",
              "std     0.875085   28.719744   0.028720   1.404633\n",
              "min     0.100000   29.900000   0.002900  29.680000\n",
              "25%     0.747500   50.475000   0.023475  30.810000\n",
              "50%     1.450000   72.850000   0.045850  31.300000\n",
              "75%     2.180000   98.225000   0.071225  32.640000\n",
              "max     3.000000  124.500000   0.097500  34.880000"
            ]
          },
          "metadata": {
            "tags": []
          },
          "execution_count": 13
        }
      ]
    },
    {
      "cell_type": "code",
      "metadata": {
        "id": "Ub-bPQpJPr4j",
        "colab_type": "code",
        "colab": {
          "base_uri": "https://localhost:8080/",
          "height": 281
        },
        "outputId": "9456e1b5-c5a2-448c-9a91-eb62b119a288"
      },
      "source": [
        "rigidez2.K.hist(bins=5)\n",
        "plt.title('Rigidez da mola')\n",
        "plt.show()"
      ],
      "execution_count": null,
      "outputs": [
        {
          "output_type": "display_data",
          "data": {
            "image/png": "[encoded data removed]",
            "text/plain": [
              "<Figure size 432x288 with 1 Axes>"
            ]
          },
          "metadata": {
            "tags": [],
            "needs_background": "light"
          }
        }
      ]
    },
    {
      "cell_type": "code",
      "metadata": {
        "id": "XH3DBA74baae",
        "colab_type": "code",
        "colab": {
          "base_uri": "https://localhost:8080/",
          "height": 296
        },
        "outputId": "0189422d-569f-4dfb-ddab-47d4c5f5d0fa"
      },
      "source": [
        "sns.distplot(rigidez2['K'])"
      ],
      "execution_count": null,
      "outputs": [
        {
          "output_type": "execute_result",
          "data": {
            "text/plain": [
              "<matplotlib.axes._subplots.AxesSubplot at 0x7fa12e86d588>"
            ]
          },
          "metadata": {
            "tags": []
          },
          "execution_count": 15
        },
        {
          "output_type": "display_data",
          "data": {
            "image/png": "[encoded data removed]",
            "text/plain": [
              "<Figure size 432x288 with 1 Axes>"
            ]
          },
          "metadata": {
            "tags": [],
            "needs_background": "light"
          }
        }
      ]
    },
    {
      "cell_type": "code",
      "metadata": {
        "id": "KoT4XpLZgSNW",
        "colab_type": "code",
        "colab": {
          "base_uri": "https://localhost:8080/",
          "height": 617
        },
        "outputId": "151ea597-a7d2-402b-a37c-bec9f4192342"
      },
      "source": [
        "import plotly.express as px\n",
        "\n",
        "fig = px.box(rigidez2, y='K')\n",
        "fig.update_layout( width=600,height=600)\n",
        "fig.show()"
      ],
      "execution_count": null,
      "outputs": [
        {
          "output_type": "display_data",
          "data": {
            "text/html": [
              "<html>\n",
              "<head><meta charset=\"utf-8\" /></head>\n",
              "<body>\n",
              "    <div>\n",
              "            <script src=\"https://cdnjs.cloudflare.com/ajax/libs/mathjax/2.7.5/MathJax.js?config=TeX-AMS-MML_SVG\"></script><script type=\"text/javascript\">if (window.MathJax) {MathJax.Hub.Config({SVG: {font: \"STIX-Web\"}});}</script>\n",
              "                <script type=\"text/javascript\">window.PlotlyConfig = {MathJaxConfig: 'local'};</script>\n",
              "        <script src=\"https://cdn.plot.ly/plotly-latest.min.js\"></script>    \n",
              "            <div id=\"c31876bb-79ad-4e7c-85e6-b37752975cf0\" class=\"plotly-graph-div\" style=\"height:600px; width:600px;\"></div>\n",
              "            <script type=\"text/javascript\">\n",
              "                \n",
              "                    window.PLOTLYENV=window.PLOTLYENV || {};\n",
              "                    \n",
              "                if (document.getElementById(\"c31876bb-79ad-4e7c-85e6-b37752975cf0\")) {\n",
              "                    Plotly.newPlot(\n",
              "                        'c31876bb-79ad-4e7c-85e6-b37752975cf0',\n",
              "                        [{\"alignmentgroup\": \"True\", \"hoverlabel\": {\"namelength\": 0}, \"hovertemplate\": \"K=%{y}\", \"legendgroup\": \"\", \"marker\": {\"color\": \"#636efa\"}, \"name\": \"\", \"notched\": false, \"offsetgroup\": \"\", \"orientation\": \"v\", \"showlegend\": false, \"type\": \"box\", \"x0\": \" \", \"xaxis\": \"x\", \"y\": [34.48, 34.88, 32.86, 31.25, 31.98, 33.66, 31.3, 33.33, 33.87, 33.63, 31.03, 31.3, 31.91, 31.38, 30.81, 30.81, 29.68, 30.18, 30.54, 30.63, 30.93, 30.57, 31.4, 31.89, 30.81, 30.77], \"y0\": \" \", \"yaxis\": \"y\"}],\n",
              "                        {\"boxmode\": \"group\", \"height\": 600, \"legend\": {\"tracegroupgap\": 0}, \"margin\": {\"t\": 60}, \"template\": {\"data\": {\"bar\": [{\"error_x\": {\"color\": \"#2a3f5f\"}, \"error_y\": {\"color\": \"#2a3f5f\"}, \"marker\": {\"line\": {\"color\": \"#E5ECF6\", \"width\": 0.5}}, \"type\": \"bar\"}], \"barpolar\": [{\"marker\": {\"line\": {\"color\": \"#E5ECF6\", \"width\": 0.5}}, \"type\": \"barpolar\"}], \"carpet\": [{\"aaxis\": {\"endlinecolor\": \"#2a3f5f\", \"gridcolor\": \"white\", \"linecolor\": \"white\", \"minorgridcolor\": \"white\", \"startlinecolor\": \"#2a3f5f\"}, \"baxis\": {\"endlinecolor\": \"#2a3f5f\", \"gridcolor\": \"white\", \"linecolor\": \"white\", \"minorgridcolor\": \"white\", \"startlinecolor\": \"#2a3f5f\"}, \"type\": \"carpet\"}], \"choropleth\": [{\"colorbar\": {\"outlinewidth\": 0, \"ticks\": \"\"}, \"type\": \"choropleth\"}], \"contour\": [{\"colorbar\": {\"outlinewidth\": 0, \"ticks\": \"\"}, \"colorscale\": [[0.0, \"#0d0887\"], [0.1111111111111111, \"#46039f\"], [0.2222222222222222, \"#7201a8\"], [0.3333333333333333, \"#9c179e\"], [0.4444444444444444, \"#bd3786\"], [0.5555555555555556, \"#d8576b\"], [0.6666666666666666, \"#ed7953\"], [0.7777777777777778, \"#fb9f3a\"], [0.8888888888888888, \"#fdca26\"], [1.0, \"#f0f921\"]], \"type\": \"contour\"}], \"contourcarpet\": [{\"colorbar\": {\"outlinewidth\": 0, \"ticks\": \"\"}, \"type\": \"contourcarpet\"}], \"heatmap\": [{\"colorbar\": {\"outlinewidth\": 0, \"ticks\": \"\"}, \"colorscale\": [[0.0, \"#0d0887\"], [0.1111111111111111, \"#46039f\"], [0.2222222222222222, \"#7201a8\"], [0.3333333333333333, \"#9c179e\"], [0.4444444444444444, \"#bd3786\"], [0.5555555555555556, \"#d8576b\"], [0.6666666666666666, \"#ed7953\"], [0.7777777777777778, \"#fb9f3a\"], [0.8888888888888888, \"#fdca26\"], [1.0, \"#f0f921\"]], \"type\": \"heatmap\"}], \"heatmapgl\": [{\"colorbar\": {\"outlinewidth\": 0, \"ticks\": \"\"}, \"colorscale\": [[0.0, \"#0d0887\"], [0.1111111111111111, \"#46039f\"], [0.2222222222222222, \"#7201a8\"], [0.3333333333333333, \"#9c179e\"], [0.4444444444444444, \"#bd3786\"], [0.5555555555555556, \"#d8576b\"], [0.6666666666666666, \"#ed7953\"], [0.7777777777777778, \"#fb9f3a\"], [0.8888888888888888, \"#fdca26\"], [1.0, \"#f0f921\"]], \"type\": \"heatmapgl\"}], \"histogram\": [{\"marker\": {\"colorbar\": {\"outlinewidth\": 0, \"ticks\": \"\"}}, \"type\": \"histogram\"}], \"histogram2d\": [{\"colorbar\": {\"outlinewidth\": 0, \"ticks\": \"\"}, \"colorscale\": [[0.0, \"#0d0887\"], [0.1111111111111111, \"#46039f\"], [0.2222222222222222, \"#7201a8\"], [0.3333333333333333, \"#9c179e\"], [0.4444444444444444, \"#bd3786\"], [0.5555555555555556, \"#d8576b\"], [0.6666666666666666, \"#ed7953\"], [0.7777777777777778, \"#fb9f3a\"], [0.8888888888888888, \"#fdca26\"], [1.0, \"#f0f921\"]], \"type\": \"histogram2d\"}], \"histogram2dcontour\": [{\"colorbar\": {\"outlinewidth\": 0, \"ticks\": \"\"}, \"colorscale\": [[0.0, \"#0d0887\"], [0.1111111111111111, \"#46039f\"], [0.2222222222222222, \"#7201a8\"], [0.3333333333333333, \"#9c179e\"], [0.4444444444444444, \"#bd3786\"], [0.5555555555555556, \"#d8576b\"], [0.6666666666666666, \"#ed7953\"], [0.7777777777777778, \"#fb9f3a\"], [0.8888888888888888, \"#fdca26\"], [1.0, \"#f0f921\"]], \"type\": \"histogram2dcontour\"}], \"mesh3d\": [{\"colorbar\": {\"outlinewidth\": 0, \"ticks\": \"\"}, \"type\": \"mesh3d\"}], \"parcoords\": [{\"line\": {\"colorbar\": {\"outlinewidth\": 0, \"ticks\": \"\"}}, \"type\": \"parcoords\"}], \"pie\": [{\"automargin\": true, \"type\": \"pie\"}], \"scatter\": [{\"marker\": {\"colorbar\": {\"outlinewidth\": 0, \"ticks\": \"\"}}, \"type\": \"scatter\"}], \"scatter3d\": [{\"line\": {\"colorbar\": {\"outlinewidth\": 0, \"ticks\": \"\"}}, \"marker\": {\"colorbar\": {\"outlinewidth\": 0, \"ticks\": \"\"}}, \"type\": \"scatter3d\"}], \"scattercarpet\": [{\"marker\": {\"colorbar\": {\"outlinewidth\": 0, \"ticks\": \"\"}}, \"type\": \"scattercarpet\"}], \"scattergeo\": [{\"marker\": {\"colorbar\": {\"outlinewidth\": 0, \"ticks\": \"\"}}, \"type\": \"scattergeo\"}], \"scattergl\": [{\"marker\": {\"colorbar\": {\"outlinewidth\": 0, \"ticks\": \"\"}}, \"type\": \"scattergl\"}], \"scattermapbox\": [{\"marker\": {\"colorbar\": {\"outlinewidth\": 0, \"ticks\": \"\"}}, \"type\": \"scattermapbox\"}], \"scatterpolar\": [{\"marker\": {\"colorbar\": {\"outlinewidth\": 0, \"ticks\": \"\"}}, \"type\": \"scatterpolar\"}], \"scatterpolargl\": [{\"marker\": {\"colorbar\": {\"outlinewidth\": 0, \"ticks\": \"\"}}, \"type\": \"scatterpolargl\"}], \"scatterternary\": [{\"marker\": {\"colorbar\": {\"outlinewidth\": 0, \"ticks\": \"\"}}, \"type\": \"scatterternary\"}], \"surface\": [{\"colorbar\": {\"outlinewidth\": 0, \"ticks\": \"\"}, \"colorscale\": [[0.0, \"#0d0887\"], [0.1111111111111111, \"#46039f\"], [0.2222222222222222, \"#7201a8\"], [0.3333333333333333, \"#9c179e\"], [0.4444444444444444, \"#bd3786\"], [0.5555555555555556, \"#d8576b\"], [0.6666666666666666, \"#ed7953\"], [0.7777777777777778, \"#fb9f3a\"], [0.8888888888888888, \"#fdca26\"], [1.0, \"#f0f921\"]], \"type\": \"surface\"}], \"table\": [{\"cells\": {\"fill\": {\"color\": \"#EBF0F8\"}, \"line\": {\"color\": \"white\"}}, \"header\": {\"fill\": {\"color\": \"#C8D4E3\"}, \"line\": {\"color\": \"white\"}}, \"type\": \"table\"}]}, \"layout\": {\"annotationdefaults\": {\"arrowcolor\": \"#2a3f5f\", \"arrowhead\": 0, \"arrowwidth\": 1}, \"coloraxis\": {\"colorbar\": {\"outlinewidth\": 0, \"ticks\": \"\"}}, \"colorscale\": {\"diverging\": [[0, \"#8e0152\"], [0.1, \"#c51b7d\"], [0.2, \"#de77ae\"], [0.3, \"#f1b6da\"], [0.4, \"#fde0ef\"], [0.5, \"#f7f7f7\"], [0.6, \"#e6f5d0\"], [0.7, \"#b8e186\"], [0.8, \"#7fbc41\"], [0.9, \"#4d9221\"], [1, \"#276419\"]], \"sequential\": [[0.0, \"#0d0887\"], [0.1111111111111111, \"#46039f\"], [0.2222222222222222, \"#7201a8\"], [0.3333333333333333, \"#9c179e\"], [0.4444444444444444, \"#bd3786\"], [0.5555555555555556, \"#d8576b\"], [0.6666666666666666, \"#ed7953\"], [0.7777777777777778, \"#fb9f3a\"], [0.8888888888888888, \"#fdca26\"], [1.0, \"#f0f921\"]], \"sequentialminus\": [[0.0, \"#0d0887\"], [0.1111111111111111, \"#46039f\"], [0.2222222222222222, \"#7201a8\"], [0.3333333333333333, \"#9c179e\"], [0.4444444444444444, \"#bd3786\"], [0.5555555555555556, \"#d8576b\"], [0.6666666666666666, \"#ed7953\"], [0.7777777777777778, \"#fb9f3a\"], [0.8888888888888888, \"#fdca26\"], [1.0, \"#f0f921\"]]}, \"colorway\": [\"#636efa\", \"#EF553B\", \"#00cc96\", \"#ab63fa\", \"#FFA15A\", \"#19d3f3\", \"#FF6692\", \"#B6E880\", \"#FF97FF\", \"#FECB52\"], \"font\": {\"color\": \"#2a3f5f\"}, \"geo\": {\"bgcolor\": \"white\", \"lakecolor\": \"white\", \"landcolor\": \"#E5ECF6\", \"showlakes\": true, \"showland\": true, \"subunitcolor\": \"white\"}, \"hoverlabel\": {\"align\": \"left\"}, \"hovermode\": \"closest\", \"mapbox\": {\"style\": \"light\"}, \"paper_bgcolor\": \"white\", \"plot_bgcolor\": \"#E5ECF6\", \"polar\": {\"angularaxis\": {\"gridcolor\": \"white\", \"linecolor\": \"white\", \"ticks\": \"\"}, \"bgcolor\": \"#E5ECF6\", \"radialaxis\": {\"gridcolor\": \"white\", \"linecolor\": \"white\", \"ticks\": \"\"}}, \"scene\": {\"xaxis\": {\"backgroundcolor\": \"#E5ECF6\", \"gridcolor\": \"white\", \"gridwidth\": 2, \"linecolor\": \"white\", \"showbackground\": true, \"ticks\": \"\", \"zerolinecolor\": \"white\"}, \"yaxis\": {\"backgroundcolor\": \"#E5ECF6\", \"gridcolor\": \"white\", \"gridwidth\": 2, \"linecolor\": \"white\", \"showbackground\": true, \"ticks\": \"\", \"zerolinecolor\": \"white\"}, \"zaxis\": {\"backgroundcolor\": \"#E5ECF6\", \"gridcolor\": \"white\", \"gridwidth\": 2, \"linecolor\": \"white\", \"showbackground\": true, \"ticks\": \"\", \"zerolinecolor\": \"white\"}}, \"shapedefaults\": {\"line\": {\"color\": \"#2a3f5f\"}}, \"ternary\": {\"aaxis\": {\"gridcolor\": \"white\", \"linecolor\": \"white\", \"ticks\": \"\"}, \"baxis\": {\"gridcolor\": \"white\", \"linecolor\": \"white\", \"ticks\": \"\"}, \"bgcolor\": \"#E5ECF6\", \"caxis\": {\"gridcolor\": \"white\", \"linecolor\": \"white\", \"ticks\": \"\"}}, \"title\": {\"x\": 0.05}, \"xaxis\": {\"automargin\": true, \"gridcolor\": \"white\", \"linecolor\": \"white\", \"ticks\": \"\", \"title\": {\"standoff\": 15}, \"zerolinecolor\": \"white\", \"zerolinewidth\": 2}, \"yaxis\": {\"automargin\": true, \"gridcolor\": \"white\", \"linecolor\": \"white\", \"ticks\": \"\", \"title\": {\"standoff\": 15}, \"zerolinecolor\": \"white\", \"zerolinewidth\": 2}}}, \"width\": 600, \"xaxis\": {\"anchor\": \"y\", \"domain\": [0.0, 1.0]}, \"yaxis\": {\"anchor\": \"x\", \"domain\": [0.0, 1.0], \"title\": {\"text\": \"K\"}}},\n",
              "                        {\"responsive\": true}\n",
              "                    ).then(function(){\n",
              "                            \n",
              "var gd = document.getElementById('c31876bb-79ad-4e7c-85e6-b37752975cf0');\n",
              "var x = new MutationObserver(function (mutations, observer) {{\n",
              "        var display = window.getComputedStyle(gd).display;\n",
              "        if (!display || display === 'none') {{\n",
              "            console.log([gd, 'removed!']);\n",
              "            Plotly.purge(gd);\n",
              "            observer.disconnect();\n",
              "        }}\n",
              "}});\n",
              "\n",
              "// Listen for the removal of the full notebook cells\n",
              "var notebookContainer = gd.closest('#notebook-container');\n",
              "if (notebookContainer) {{\n",
              "    x.observe(notebookContainer, {childList: true});\n",
              "}}\n",
              "\n",
              "// Listen for the clearing of the current output cell\n",
              "var outputEl = gd.closest('.output');\n",
              "if (outputEl) {{\n",
              "    x.observe(outputEl, {childList: true});\n",
              "}}\n",
              "\n",
              "                        })\n",
              "                };\n",
              "                \n",
              "            </script>\n",
              "        </div>\n",
              "</body>\n",
              "</html>"
            ]
          },
          "metadata": {
            "tags": []
          }
        }
      ]
    },
    {
      "cell_type": "markdown",
      "metadata": {
        "id": "YPNw5Wj49tV9",
        "colab_type": "text"
      },
      "source": [
        "## Correlações"
      ]
    },
    {
      "cell_type": "code",
      "metadata": {
        "id": "27RK55Meawd1",
        "colab_type": "code",
        "colab": {
          "base_uri": "https://localhost:8080/",
          "height": 764
        },
        "outputId": "a2a47ef0-cf9b-4bec-dec9-bdd9f9329902"
      },
      "source": [
        "sns.pairplot(rigidez2)"
      ],
      "execution_count": null,
      "outputs": [
        {
          "output_type": "execute_result",
          "data": {
            "text/plain": [
              "<seaborn.axisgrid.PairGrid at 0x7fa12ee0a080>"
            ]
          },
          "metadata": {
            "tags": []
          },
          "execution_count": 17
        },
        {
          "output_type": "display_data",
          "data": {
            "image/png": "[encoded data removed]",
            "text/plain": [
              "<Figure size 720x720 with 20 Axes>"
            ]
          },
          "metadata": {
            "tags": [],
            "needs_background": "light"
          }
        }
      ]
    },
    {
      "cell_type": "code",
      "metadata": {
        "scrolled": true,
        "id": "zS6fPmJHPr4n",
        "colab_type": "code",
        "colab": {
          "base_uri": "https://localhost:8080/",
          "height": 295
        },
        "outputId": "2da7cb12-e395-4799-d035-934de30df53e"
      },
      "source": [
        "plt.scatter(rigidez2.x,rigidez2.forca)\n",
        "plt.xlabel('Deformação(mm)')\n",
        "plt.ylabel('Força(N)')\n",
        "plt.title('Rigidez da mola')\n",
        "plt.grid(True)\n",
        "plt.show()\n"
      ],
      "execution_count": null,
      "outputs": [
        {
          "output_type": "display_data",
          "data": {
            "image/png": "[encoded data removed]",
            "text/plain": [
              "<Figure size 432x288 with 1 Axes>"
            ]
          },
          "metadata": {
            "tags": [],
            "needs_background": "light"
          }
        }
      ]
    },
    {
      "cell_type": "code",
      "metadata": {
        "id": "zllV9_4ATIv-",
        "colab_type": "code",
        "colab": {}
      },
      "source": [
        "correlacoes = rigidez2.corr()"
      ],
      "execution_count": null,
      "outputs": []
    },
    {
      "cell_type": "code",
      "metadata": {
        "id": "FKeY5PLnUZRl",
        "colab_type": "code",
        "colab": {
          "base_uri": "https://localhost:8080/",
          "height": 173
        },
        "outputId": "1561047d-446e-4186-f6dc-6b2a42f82080"
      },
      "source": [
        "correlacoes"
      ],
      "execution_count": null,
      "outputs": [
        {
          "output_type": "execute_result",
          "data": {
            "text/html": [
              "<div>\n",
              "<style scoped>\n",
              "    .dataframe tbody tr th:only-of-type {\n",
              "        vertical-align: middle;\n",
              "    }\n",
              "\n",
              "    .dataframe tbody tr th {\n",
              "        vertical-align: top;\n",
              "    }\n",
              "\n",
              "    .dataframe thead th {\n",
              "        text-align: right;\n",
              "    }\n",
              "</style>\n",
              "<table border=\"1\" class=\"dataframe\">\n",
              "  <thead>\n",
              "    <tr style=\"text-align: right;\">\n",
              "      <th></th>\n",
              "      <th>forca</th>\n",
              "      <th>L</th>\n",
              "      <th>x</th>\n",
              "      <th>K</th>\n",
              "    </tr>\n",
              "  </thead>\n",
              "  <tbody>\n",
              "    <tr>\n",
              "      <th>forca</th>\n",
              "      <td>1.000000</td>\n",
              "      <td>0.999015</td>\n",
              "      <td>0.999015</td>\n",
              "      <td>-0.685569</td>\n",
              "    </tr>\n",
              "    <tr>\n",
              "      <th>L</th>\n",
              "      <td>0.999015</td>\n",
              "      <td>1.000000</td>\n",
              "      <td>1.000000</td>\n",
              "      <td>-0.708066</td>\n",
              "    </tr>\n",
              "    <tr>\n",
              "      <th>x</th>\n",
              "      <td>0.999015</td>\n",
              "      <td>1.000000</td>\n",
              "      <td>1.000000</td>\n",
              "      <td>-0.708066</td>\n",
              "    </tr>\n",
              "    <tr>\n",
              "      <th>K</th>\n",
              "      <td>-0.685569</td>\n",
              "      <td>-0.708066</td>\n",
              "      <td>-0.708066</td>\n",
              "      <td>1.000000</td>\n",
              "    </tr>\n",
              "  </tbody>\n",
              "</table>\n",
              "</div>"
            ],
            "text/plain": [
              "          forca         L         x         K\n",
              "forca  1.000000  0.999015  0.999015 -0.685569\n",
              "L      0.999015  1.000000  1.000000 -0.708066\n",
              "x      0.999015  1.000000  1.000000 -0.708066\n",
              "K     -0.685569 -0.708066 -0.708066  1.000000"
            ]
          },
          "metadata": {
            "tags": []
          },
          "execution_count": 20
        }
      ]
    },
    {
      "cell_type": "code",
      "metadata": {
        "id": "LuHWeXSaPr5X",
        "colab_type": "code",
        "colab": {
          "base_uri": "https://localhost:8080/",
          "height": 286
        },
        "outputId": "9984ea4b-659c-44eb-c805-1b5c60872e8a"
      },
      "source": [
        "plt.figure()\n",
        "sns.heatmap(correlacoes, annot=True)"
      ],
      "execution_count": null,
      "outputs": [
        {
          "output_type": "execute_result",
          "data": {
            "text/plain": [
              "<matplotlib.axes._subplots.AxesSubplot at 0x7fa12c4fae48>"
            ]
          },
          "metadata": {
            "tags": []
          },
          "execution_count": 21
        },
        {
          "output_type": "display_data",
          "data": {
            "image/png": "[encoded data removed]",
            "text/plain": [
              "<Figure size 432x288 with 2 Axes>"
            ]
          },
          "metadata": {
            "tags": [],
            "needs_background": "light"
          }
        }
      ]
    },
    {
      "cell_type": "markdown",
      "metadata": {
        "id": "DIt-gpe7DdCN",
        "colab_type": "text"
      },
      "source": [
        "## MACHINE LEARNING"
      ]
    },
    {
      "cell_type": "markdown",
      "metadata": {
        "id": "WkqFHNW5DnEs",
        "colab_type": "text"
      },
      "source": [
        "## REGRESSÃO LINEAR"
      ]
    },
    {
      "cell_type": "code",
      "metadata": {
        "id": "BuufribPDcf1",
        "colab_type": "code",
        "colab": {}
      },
      "source": [
        "x = rigidez2.iloc[:, 2].values\n",
        "y = rigidez2.iloc[:, 0].values"
      ],
      "execution_count": null,
      "outputs": []
    },
    {
      "cell_type": "code",
      "metadata": {
        "id": "oa0WDtrIFmi2",
        "colab_type": "code",
        "colab": {}
      },
      "source": [
        "x = x.reshape(-1,1) #transformando em matriz"
      ],
      "execution_count": null,
      "outputs": []
    },
    {
      "cell_type": "code",
      "metadata": {
        "id": "8La9e43xF4AA",
        "colab_type": "code",
        "colab": {}
      },
      "source": [
        "from sklearn.model_selection import train_test_split\n",
        "x_treinamento, x_teste, y_treinamento, y_teste = train_test_split(x, y,\n",
        "                                                                  test_size = 0.3,\n",
        "                                                                  random_state = 0)"
      ],
      "execution_count": null,
      "outputs": []
    },
    {
      "cell_type": "code",
      "metadata": {
        "id": "DedkSpe_F-D9",
        "colab_type": "code",
        "colab": {}
      },
      "source": [
        "from sklearn.linear_model import LinearRegression\n",
        "regressor = LinearRegression()\n",
        "regressor.fit(x_treinamento, y_treinamento)\n",
        "score = regressor.score(x_treinamento, y_treinamento)"
      ],
      "execution_count": null,
      "outputs": []
    },
    {
      "cell_type": "code",
      "metadata": {
        "id": "NrM2ButxGHws",
        "colab_type": "code",
        "colab": {
          "base_uri": "https://localhost:8080/",
          "height": 282
        },
        "outputId": "1b322821-7e0a-48e9-e772-d96d7dcc9a61"
      },
      "source": [
        "import matplotlib.pyplot as plt\n",
        "plt.scatter(x_treinamento, y_treinamento) #Gráfico com dados de treinamento.\n",
        "plt.plot(x_treinamento, regressor.predict(x_treinamento), color = 'red')"
      ],
      "execution_count": null,
      "outputs": [
        {
          "output_type": "execute_result",
          "data": {
            "text/plain": [
              "[<matplotlib.lines.Line2D at 0x7fa126c85d30>]"
            ]
          },
          "metadata": {
            "tags": []
          },
          "execution_count": 26
        },
        {
          "output_type": "display_data",
          "data": {
            "image/png": "[encoded data removed]",
            "text/plain": [
              "<Figure size 432x288 with 1 Axes>"
            ]
          },
          "metadata": {
            "tags": [],
            "needs_background": "light"
          }
        }
      ]
    },
    {
      "cell_type": "code",
      "metadata": {
        "id": "zb2S4ciqGN7N",
        "colab_type": "code",
        "colab": {}
      },
      "source": [
        "previsoes = regressor.predict(x_teste)"
      ],
      "execution_count": null,
      "outputs": []
    },
    {
      "cell_type": "code",
      "metadata": {
        "id": "inSmtIFeGrYi",
        "colab_type": "code",
        "colab": {}
      },
      "source": [
        "from sklearn.metrics import mean_absolute_error, mean_squared_error \n",
        "mae = mean_absolute_error(y_teste, previsoes)\n",
        "mse = mean_squared_error(y_teste, previsoes)"
      ],
      "execution_count": null,
      "outputs": []
    },
    {
      "cell_type": "code",
      "metadata": {
        "id": "6p06L-XzGuzb",
        "colab_type": "code",
        "colab": {
          "base_uri": "https://localhost:8080/",
          "height": 34
        },
        "outputId": "0293b609-eb06-4637-91f8-5c117de804ce"
      },
      "source": [
        "mae"
      ],
      "execution_count": null,
      "outputs": [
        {
          "output_type": "execute_result",
          "data": {
            "text/plain": [
              "0.02163541866533639"
            ]
          },
          "metadata": {
            "tags": []
          },
          "execution_count": 29
        }
      ]
    },
    {
      "cell_type": "code",
      "metadata": {
        "id": "CUgzBGXcGyPD",
        "colab_type": "code",
        "colab": {
          "base_uri": "https://localhost:8080/",
          "height": 34
        },
        "outputId": "f5c148ab-6c59-4a45-c579-cc2a67495091"
      },
      "source": [
        "mse"
      ],
      "execution_count": null,
      "outputs": [
        {
          "output_type": "execute_result",
          "data": {
            "text/plain": [
              "0.0007812163996530357"
            ]
          },
          "metadata": {
            "tags": []
          },
          "execution_count": 30
        }
      ]
    },
    {
      "cell_type": "code",
      "metadata": {
        "id": "cxST_HYCG05T",
        "colab_type": "code",
        "colab": {
          "base_uri": "https://localhost:8080/",
          "height": 282
        },
        "outputId": "b51e4133-ee86-4de8-8c22-76e6c4d8dd45"
      },
      "source": [
        "plt.scatter(x_teste, y_teste) #Gráfico com os dados de teste\n",
        "plt.plot(x_teste, regressor.predict(x_teste), color = 'red')"
      ],
      "execution_count": null,
      "outputs": [
        {
          "output_type": "execute_result",
          "data": {
            "text/plain": [
              "[<matplotlib.lines.Line2D at 0x7fa1252c4860>]"
            ]
          },
          "metadata": {
            "tags": []
          },
          "execution_count": 31
        },
        {
          "output_type": "display_data",
          "data": {
            "image/png": "[encoded data removed]",
            "text/plain": [
              "<Figure size 432x288 with 1 Axes>"
            ]
          },
          "metadata": {
            "tags": [],
            "needs_background": "light"
          }
        }
      ]
    },
    {
      "cell_type": "code",
      "metadata": {
        "id": "QnBn0YErHCEp",
        "colab_type": "code",
        "colab": {
          "base_uri": "https://localhost:8080/",
          "height": 34
        },
        "outputId": "7156d32c-687a-4214-da7a-85d81795d83f"
      },
      "source": [
        "regressor.score(x_teste, y_teste)"
      ],
      "execution_count": null,
      "outputs": [
        {
          "output_type": "execute_result",
          "data": {
            "text/plain": [
              "0.9985646660242469"
            ]
          },
          "metadata": {
            "tags": []
          },
          "execution_count": 32
        }
      ]
    },
    {
      "cell_type": "code",
      "metadata": {
        "id": "GQK4HKiuHFIB",
        "colab_type": "code",
        "colab": {}
      },
      "source": [
        "previsao = regressor.predict(np.array(0.08).reshape(1, -1))"
      ],
      "execution_count": null,
      "outputs": []
    },
    {
      "cell_type": "code",
      "metadata": {
        "id": "n77LNEQdHNiy",
        "colab_type": "code",
        "colab": {
          "base_uri": "https://localhost:8080/",
          "height": 34
        },
        "outputId": "b6a1b052-8639-438f-d38e-34f7ddfdda05"
      },
      "source": [
        "previsao"
      ],
      "execution_count": null,
      "outputs": [
        {
          "output_type": "execute_result",
          "data": {
            "text/plain": [
              "array([2.47103841])"
            ]
          },
          "metadata": {
            "tags": []
          },
          "execution_count": 34
        }
      ]
    },
    {
      "cell_type": "code",
      "metadata": {
        "id": "nqb_97B-HYQN",
        "colab_type": "code",
        "colab": {
          "base_uri": "https://localhost:8080/",
          "height": 34
        },
        "outputId": "b60f06d6-1d02-4454-fec9-4d25765ec17a"
      },
      "source": [
        "# coeficiente linear (ideal é resultar zero nesse caso)\n",
        "regressor.intercept_"
      ],
      "execution_count": null,
      "outputs": [
        {
          "output_type": "execute_result",
          "data": {
            "text/plain": [
              "0.037023293295982196"
            ]
          },
          "metadata": {
            "tags": []
          },
          "execution_count": 35
        }
      ]
    },
    {
      "cell_type": "code",
      "metadata": {
        "id": "zRPugSoWHdgt",
        "colab_type": "code",
        "colab": {
          "base_uri": "https://localhost:8080/",
          "height": 34
        },
        "outputId": "3fb68dfc-d595-4f67-d329-4bea82496d2c"
      },
      "source": [
        "# coeficiente angular (Rigidez ou constante elástica da mola)\n",
        "regressor.coef_"
      ],
      "execution_count": null,
      "outputs": [
        {
          "output_type": "execute_result",
          "data": {
            "text/plain": [
              "array([30.42518899])"
            ]
          },
          "metadata": {
            "tags": []
          },
          "execution_count": 36
        }
      ]
    },
    {
      "cell_type": "markdown",
      "metadata": {
        "id": "_qYVmNjoyRU8",
        "colab_type": "text"
      },
      "source": [
        "Portanto, rigidez = regressor.coef_ = 30,4252 N/m\n",
        "\n",
        "Equação para o cálculo de previsão da força:\n",
        "\n",
        "F = regressor.intercept + regressor.coef_*regressor.predict()\n",
        "\n",
        "F = regressor.intercept + K * x\n",
        "\n",
        "F = 0.037023 + 30.42519 * x "
      ]
    },
    {
      "cell_type": "markdown",
      "metadata": {
        "id": "TuuvJhx02qwg",
        "colab_type": "text"
      },
      "source": [
        "## ÁRVORE DE DECISÃO"
      ]
    },
    {
      "cell_type": "code",
      "metadata": {
        "id": "mJnshafN-QkL",
        "colab_type": "code",
        "colab": {}
      },
      "source": [
        "x = rigidez2.iloc[:, 1:4].values\n",
        "y = rigidez2.iloc[:, 0].values"
      ],
      "execution_count": null,
      "outputs": []
    },
    {
      "cell_type": "code",
      "metadata": {
        "id": "3W8Ly-3c3sfK",
        "colab_type": "code",
        "colab": {}
      },
      "source": [
        "from sklearn.tree import DecisionTreeRegressor\n",
        "regressor = DecisionTreeRegressor()\n",
        "regressor.fit(x_treinamento, y_treinamento)\n",
        "score = regressor.score(x_treinamento, y_treinamento)"
      ],
      "execution_count": null,
      "outputs": []
    },
    {
      "cell_type": "code",
      "metadata": {
        "id": "vpgnKfsk4tG8",
        "colab_type": "code",
        "colab": {}
      },
      "source": [
        "previsoes = regressor.predict(x_teste)"
      ],
      "execution_count": null,
      "outputs": []
    },
    {
      "cell_type": "code",
      "metadata": {
        "id": "bFdVssky401S",
        "colab_type": "code",
        "colab": {}
      },
      "source": [
        "from sklearn.metrics import mean_absolute_error"
      ],
      "execution_count": null,
      "outputs": []
    },
    {
      "cell_type": "code",
      "metadata": {
        "id": "Q7D8iolM44RY",
        "colab_type": "code",
        "colab": {
          "base_uri": "https://localhost:8080/",
          "height": 34
        },
        "outputId": "fa677267-e514-4afa-fe85-8babd1955792"
      },
      "source": [
        "mean_absolute_error(y_teste, previsoes)"
      ],
      "execution_count": null,
      "outputs": [
        {
          "output_type": "execute_result",
          "data": {
            "text/plain": [
              "0.08749999999999997"
            ]
          },
          "metadata": {
            "tags": []
          },
          "execution_count": 42
        }
      ]
    },
    {
      "cell_type": "code",
      "metadata": {
        "id": "jHkFtuz_54w5",
        "colab_type": "code",
        "colab": {
          "base_uri": "https://localhost:8080/",
          "height": 34
        },
        "outputId": "2d28f5db-a9f9-49c0-ce06-cca38340781f"
      },
      "source": [
        "mean_squared_error(y_teste, previsoes)"
      ],
      "execution_count": null,
      "outputs": [
        {
          "output_type": "execute_result",
          "data": {
            "text/plain": [
              "0.011024999999999991"
            ]
          },
          "metadata": {
            "tags": []
          },
          "execution_count": 43
        }
      ]
    },
    {
      "cell_type": "code",
      "metadata": {
        "id": "P2geVTgT473D",
        "colab_type": "code",
        "colab": {
          "base_uri": "https://localhost:8080/",
          "height": 34
        },
        "outputId": "d1113675-43d6-4f6c-d584-cd6ec68c1f59"
      },
      "source": [
        "regressor.score(x_teste, y_teste)"
      ],
      "execution_count": null,
      "outputs": [
        {
          "output_type": "execute_result",
          "data": {
            "text/plain": [
              "0.9797436957420422"
            ]
          },
          "metadata": {
            "tags": []
          },
          "execution_count": 44
        }
      ]
    },
    {
      "cell_type": "code",
      "metadata": {
        "id": "AYLFiQbk_wLL",
        "colab_type": "code",
        "colab": {}
      },
      "source": [
        "previsao = regressor.predict(np.array(0.08).reshape(1, -1))"
      ],
      "execution_count": null,
      "outputs": []
    },
    {
      "cell_type": "code",
      "metadata": {
        "id": "HOxEl_qO_zyf",
        "colab_type": "code",
        "colab": {
          "base_uri": "https://localhost:8080/",
          "height": 34
        },
        "outputId": "e8419b2e-273d-4523-c181-23fc896db4e1"
      },
      "source": [
        "previsao"
      ],
      "execution_count": null,
      "outputs": [
        {
          "output_type": "execute_result",
          "data": {
            "text/plain": [
              "array([2.4])"
            ]
          },
          "metadata": {
            "tags": []
          },
          "execution_count": 46
        }
      ]
    },
    {
      "cell_type": "markdown",
      "metadata": {
        "id": "IxIXhtPB5D8O",
        "colab_type": "text"
      },
      "source": [
        "Resultados comparativos dos scores:\n",
        "\n",
        "Regressão linear: 0.9985646660242469\n",
        "\n",
        "Árvore de decisão: 0.9797436957420422"
      ]
    },
    {
      "cell_type": "markdown",
      "metadata": {
        "id": "OZ-vqCArBZt0",
        "colab_type": "text"
      },
      "source": [
        "## RANDOM FOREST"
      ]
    },
    {
      "cell_type": "code",
      "metadata": {
        "id": "SmxkrKYZBGsb",
        "colab_type": "code",
        "colab": {}
      },
      "source": [
        "from sklearn.ensemble import RandomForestRegressor\n",
        "regressor = RandomForestRegressor(n_estimators = 100)\n",
        "regressor.fit(x_treinamento, y_treinamento)\n",
        "score = regressor.score(x_treinamento, y_treinamento)\n"
      ],
      "execution_count": null,
      "outputs": []
    },
    {
      "cell_type": "code",
      "metadata": {
        "id": "9mNrTj91Bla8",
        "colab_type": "code",
        "colab": {}
      },
      "source": [
        "previsoes = regressor.predict(x_teste)"
      ],
      "execution_count": null,
      "outputs": []
    },
    {
      "cell_type": "code",
      "metadata": {
        "id": "5k4ERpIIBw8r",
        "colab_type": "code",
        "colab": {
          "base_uri": "https://localhost:8080/",
          "height": 34
        },
        "outputId": "bae17aad-cf29-4132-e55e-d34be307251b"
      },
      "source": [
        "mean_absolute_error(y_teste, previsoes)"
      ],
      "execution_count": null,
      "outputs": [
        {
          "output_type": "execute_result",
          "data": {
            "text/plain": [
              "0.054712500000000344"
            ]
          },
          "metadata": {
            "tags": []
          },
          "execution_count": 49
        }
      ]
    },
    {
      "cell_type": "code",
      "metadata": {
        "id": "owh4g7VUB2WF",
        "colab_type": "code",
        "colab": {
          "base_uri": "https://localhost:8080/",
          "height": 34
        },
        "outputId": "4461fcab-6a6f-4f08-ef95-feec2689d90d"
      },
      "source": [
        "mean_squared_error(y_teste, previsoes)"
      ],
      "execution_count": null,
      "outputs": [
        {
          "output_type": "execute_result",
          "data": {
            "text/plain": [
              "0.0042836262499999864"
            ]
          },
          "metadata": {
            "tags": []
          },
          "execution_count": 50
        }
      ]
    },
    {
      "cell_type": "code",
      "metadata": {
        "id": "QmXuV13rCHyq",
        "colab_type": "code",
        "colab": {
          "base_uri": "https://localhost:8080/",
          "height": 34
        },
        "outputId": "5806316c-e7be-40a9-9fb1-ea7ac13391e5"
      },
      "source": [
        "regressor.score(x_teste, y_teste)"
      ],
      "execution_count": null,
      "outputs": [
        {
          "output_type": "execute_result",
          "data": {
            "text/plain": [
              "0.9921296656102154"
            ]
          },
          "metadata": {
            "tags": []
          },
          "execution_count": 51
        }
      ]
    },
    {
      "cell_type": "code",
      "metadata": {
        "id": "8omyljLQE1l_",
        "colab_type": "code",
        "colab": {}
      },
      "source": [
        "previsao = regressor.predict(np.array(0.08).reshape(1, -1))"
      ],
      "execution_count": null,
      "outputs": []
    },
    {
      "cell_type": "code",
      "metadata": {
        "id": "XAdsuJYQE3r3",
        "colab_type": "code",
        "colab": {
          "base_uri": "https://localhost:8080/",
          "height": 34
        },
        "outputId": "46c9a178-88f4-4e6e-ef9a-2d43b22173ee"
      },
      "source": [
        "previsao"
      ],
      "execution_count": null,
      "outputs": [
        {
          "output_type": "execute_result",
          "data": {
            "text/plain": [
              "array([2.4493])"
            ]
          },
          "metadata": {
            "tags": []
          },
          "execution_count": 54
        }
      ]
    },
    {
      "cell_type": "markdown",
      "metadata": {
        "id": "cGpqQXaJCbQN",
        "colab_type": "text"
      },
      "source": [
        "Resultados comparativos dos scores:\n",
        "\n",
        "Regressão linear: 0.9985646660242469\n",
        "\n",
        "Árvore de decisão: 0.9797436957420422\n",
        "\n",
        "Random Forest: 0.9921296656102154"
      ]
    },
    {
      "cell_type": "markdown",
      "metadata": {
        "id": "mDA6L3icDk9z",
        "colab_type": "text"
      },
      "source": [
        "## VETORES DE SUPORTE (SVR)"
      ]
    },
    {
      "cell_type": "code",
      "metadata": {
        "id": "D_kO41uWDz7O",
        "colab_type": "code",
        "colab": {}
      },
      "source": [
        "from sklearn.svm import SVR\n",
        "regressor = SVR(kernel = 'rbf')\n",
        "regressor.fit(x_treinamento, y_treinamento)\n",
        "score = regressor.score(x_treinamento, y_treinamento)"
      ],
      "execution_count": null,
      "outputs": []
    },
    {
      "cell_type": "code",
      "metadata": {
        "id": "w5o3I78EEK2G",
        "colab_type": "code",
        "colab": {
          "base_uri": "https://localhost:8080/",
          "height": 34
        },
        "outputId": "31baa952-967b-4f6f-9e69-36f98e9fa334"
      },
      "source": [
        "regressor.score(x_teste, y_teste)"
      ],
      "execution_count": null,
      "outputs": [
        {
          "output_type": "execute_result",
          "data": {
            "text/plain": [
              "0.9964102872302216"
            ]
          },
          "metadata": {
            "tags": []
          },
          "execution_count": 56
        }
      ]
    },
    {
      "cell_type": "code",
      "metadata": {
        "id": "c3KfJFBQEVRT",
        "colab_type": "code",
        "colab": {
          "base_uri": "https://localhost:8080/",
          "height": 34
        },
        "outputId": "ff512bf4-2629-482a-f41f-69ae11e7453b"
      },
      "source": [
        "mean_absolute_error(y_teste, previsoes)"
      ],
      "execution_count": null,
      "outputs": [
        {
          "output_type": "execute_result",
          "data": {
            "text/plain": [
              "0.054712500000000344"
            ]
          },
          "metadata": {
            "tags": []
          },
          "execution_count": 57
        }
      ]
    },
    {
      "cell_type": "code",
      "metadata": {
        "id": "1Biv6YEuEbFm",
        "colab_type": "code",
        "colab": {
          "base_uri": "https://localhost:8080/",
          "height": 34
        },
        "outputId": "5032d763-2fac-4e0d-e560-ff36540fbc6b"
      },
      "source": [
        "mean_squared_error(y_teste, previsoes)"
      ],
      "execution_count": null,
      "outputs": [
        {
          "output_type": "execute_result",
          "data": {
            "text/plain": [
              "0.0042836262499999864"
            ]
          },
          "metadata": {
            "tags": []
          },
          "execution_count": 58
        }
      ]
    },
    {
      "cell_type": "code",
      "metadata": {
        "id": "ZBpr8HSQFC7J",
        "colab_type": "code",
        "colab": {}
      },
      "source": [
        "previsao = regressor.predict(np.array(0.08).reshape(1, -1))"
      ],
      "execution_count": null,
      "outputs": []
    },
    {
      "cell_type": "code",
      "metadata": {
        "id": "X73Tz6apFEHb",
        "colab_type": "code",
        "colab": {
          "base_uri": "https://localhost:8080/",
          "height": 34
        },
        "outputId": "ab1f98d0-058e-4e8a-95b4-c30045f2c516"
      },
      "source": [
        "previsao"
      ],
      "execution_count": null,
      "outputs": [
        {
          "output_type": "execute_result",
          "data": {
            "text/plain": [
              "array([2.46150008])"
            ]
          },
          "metadata": {
            "tags": []
          },
          "execution_count": 60
        }
      ]
    },
    {
      "cell_type": "markdown",
      "metadata": {
        "id": "YDzprJgvFXwD",
        "colab_type": "text"
      },
      "source": [
        "Resultados comparativos dos scores:\n",
        "\n",
        "Regressão linear: 0.9985646660242469\n",
        "\n",
        "Árvore de decisão: 0.9797436957420422\n",
        "\n",
        "Random Forest: 0.9921296656102154\n",
        "\n",
        "SVR: 0.9964102872302216"
      ]
    },
    {
      "cell_type": "markdown",
      "metadata": {
        "id": "8prMGG1oFiAe",
        "colab_type": "text"
      },
      "source": [
        "## REDES NEURAIS"
      ]
    },
    {
      "cell_type": "markdown",
      "metadata": {
        "id": "iox2GUHNdOcR",
        "colab_type": "text"
      },
      "source": [
        "O melhor resultado foi sem a base de teste e treinamento, usando os dois atributos principais (força e deformação)."
      ]
    },
    {
      "cell_type": "code",
      "metadata": {
        "id": "28vDUGz8GwEg",
        "colab_type": "code",
        "colab": {}
      },
      "source": [
        "x = rigidez2.iloc[:, 2:3].values\n",
        "y = rigidez2.iloc[:, 0:1].values"
      ],
      "execution_count": null,
      "outputs": []
    },
    {
      "cell_type": "code",
      "metadata": {
        "id": "xTYX4fS-X2Km",
        "colab_type": "code",
        "colab": {}
      },
      "source": [
        "from sklearn.preprocessing import StandardScaler\n",
        "scaler_x = StandardScaler()\n",
        "x = scaler_x.fit_transform(x)\n",
        "scaler_y = StandardScaler()\n",
        "y = scaler_y.fit_transform(y)"
      ],
      "execution_count": null,
      "outputs": []
    },
    {
      "cell_type": "code",
      "metadata": {
        "id": "mbW1YcemXxU5",
        "colab_type": "code",
        "colab": {
          "base_uri": "https://localhost:8080/",
          "height": 241
        },
        "outputId": "2e6046ef-1b9a-48a8-c19a-b08d6ebc62f5"
      },
      "source": [
        "from sklearn.neural_network import MLPRegressor\n",
        "regressor = MLPRegressor()\n",
        "regressor.fit(x, y)"
      ],
      "execution_count": null,
      "outputs": [
        {
          "output_type": "stream",
          "text": [
            "/usr/local/lib/python3.6/dist-packages/sklearn/neural_network/_multilayer_perceptron.py:1342: DataConversionWarning:\n",
            "\n",
            "A column-vector y was passed when a 1d array was expected. Please change the shape of y to (n_samples, ), for example using ravel().\n",
            "\n"
          ],
          "name": "stderr"
        },
        {
          "output_type": "execute_result",
          "data": {
            "text/plain": [
              "MLPRegressor(activation='relu', alpha=0.0001, batch_size='auto', beta_1=0.9,\n",
              "             beta_2=0.999, early_stopping=False, epsilon=1e-08,\n",
              "             hidden_layer_sizes=(100,), learning_rate='constant',\n",
              "             learning_rate_init=0.001, max_fun=15000, max_iter=200,\n",
              "             momentum=0.9, n_iter_no_change=10, nesterovs_momentum=True,\n",
              "             power_t=0.5, random_state=None, shuffle=True, solver='adam',\n",
              "             tol=0.0001, validation_fraction=0.1, verbose=False,\n",
              "             warm_start=False)"
            ]
          },
          "metadata": {
            "tags": []
          },
          "execution_count": 163
        }
      ]
    },
    {
      "cell_type": "code",
      "metadata": {
        "id": "YGYQw_tmXtle",
        "colab_type": "code",
        "colab": {
          "base_uri": "https://localhost:8080/",
          "height": 34
        },
        "outputId": "173e12e3-18bc-4996-bd4f-b99cb170d703"
      },
      "source": [
        "regressor.score(x, y)"
      ],
      "execution_count": null,
      "outputs": [
        {
          "output_type": "execute_result",
          "data": {
            "text/plain": [
              "0.9954506140541947"
            ]
          },
          "metadata": {
            "tags": []
          },
          "execution_count": 164
        }
      ]
    },
    {
      "cell_type": "code",
      "metadata": {
        "id": "VLZ2Pa6MdGlA",
        "colab_type": "code",
        "colab": {}
      },
      "source": [
        "previsao = scaler_y.inverse_transform(regressor.predict(scaler_x.transform(np.array(0.08).reshape(1, -1))))"
      ],
      "execution_count": null,
      "outputs": []
    },
    {
      "cell_type": "code",
      "metadata": {
        "id": "P8D-p-t8dJKC",
        "colab_type": "code",
        "colab": {
          "base_uri": "https://localhost:8080/",
          "height": 34
        },
        "outputId": "652d99e1-60d4-44c6-a0ae-030ab64f78fc"
      },
      "source": [
        "previsao"
      ],
      "execution_count": null,
      "outputs": [
        {
          "output_type": "execute_result",
          "data": {
            "text/plain": [
              "array([2.47451658])"
            ]
          },
          "metadata": {
            "tags": []
          },
          "execution_count": 166
        }
      ]
    },
    {
      "cell_type": "code",
      "metadata": {
        "id": "LgH3u74hgwCT",
        "colab_type": "code",
        "colab": {}
      },
      "source": [
        "previsoes = regressor.predict(x_teste)\n",
        "x_teste = scaler_x.inverse_transform(x_teste)\n",
        "y_teste = scaler_y.inverse_transform(y_teste)\n",
        "previsoes = scaler_y.inverse_transform(previsoes)"
      ],
      "execution_count": null,
      "outputs": []
    },
    {
      "cell_type": "code",
      "metadata": {
        "id": "HCfVhalQgDwz",
        "colab_type": "code",
        "colab": {
          "base_uri": "https://localhost:8080/",
          "height": 312
        },
        "outputId": "4e993b06-1f99-4350-9b25-84887140c657"
      },
      "source": [
        "\n",
        "import matplotlib.pyplot as plt\n",
        "plt.scatter(x, y)\n",
        "plt.plot(x, regressor.predict(x), color = 'red')\n",
        "plt.title('Rigidez')\n",
        "plt.xlabel('Deformação (mm)')\n",
        "plt.ylabel('Força (N)')"
      ],
      "execution_count": null,
      "outputs": [
        {
          "output_type": "execute_result",
          "data": {
            "text/plain": [
              "Text(0, 0.5, 'Força (N)')"
            ]
          },
          "metadata": {
            "tags": []
          },
          "execution_count": 170
        },
        {
          "output_type": "display_data",
          "data": {
            "image/png": "[encoded data removed]",
            "text/plain": [
              "<Figure size 432x288 with 1 Axes>"
            ]
          },
          "metadata": {
            "tags": [],
            "needs_background": "light"
          }
        }
      ]
    },
    {
      "cell_type": "markdown",
      "metadata": {
        "id": "KSMl_zEUeyvp",
        "colab_type": "text"
      },
      "source": [
        "Resultados comparativos dos scores:\n",
        "\n",
        "Regressão linear: 0.9985646660242469\n",
        "\n",
        "Árvore de decisão: 0.9797436957420422\n",
        "\n",
        "Random Forest: 0.9921296656102154\n",
        "\n",
        "SVR: 0.9964102872302216\n",
        "\n",
        "Redes Neurais: 0.9887326587125854"
      ]
    },
    {
      "cell_type": "markdown",
      "metadata": {
        "id": "5fH6Km3eh_wa",
        "colab_type": "text"
      },
      "source": [
        "## CONCLUSÃO:\n",
        "\n",
        "## O melhor algoritmo, conforme análise dos scores e erros, foi o de regressão linear."
      ]
    }
  ]
}